{
 "cells": [
  {
   "cell_type": "markdown",
   "metadata": {},
   "source": [
    "# WeatherPy\n",
    "----\n",
    "\n",
    "#### Note\n",
    "* Instructions have been included for each segment. You do not have to follow them exactly, but they are included to help you think through the steps."
   ]
  },
  {
   "cell_type": "code",
   "execution_count": 1,
   "metadata": {
    "scrolled": true
   },
   "outputs": [],
   "source": [
    "# Dependencies and Setup\n",
    "import matplotlib.pyplot as plt\n",
    "import pandas as pd\n",
    "import numpy as np\n",
    "import requests\n",
    "import time\n",
    "from scipy.stats import linregress\n",
    "import scipy.stats as st\n",
    "\n",
    "# Import API key\n",
    "from api_keys import weather_api_key\n",
    "\n",
    "# Incorporated citipy to determine city based on latitude and longitude\n",
    "from citipy import citipy\n",
    "\n",
    "# Output File (CSV)\n",
    "output_data_file = \"output_data/cities.csv\"\n",
    "\n",
    "# Range of latitudes and longitudes\n",
    "lat_range = (-90, 90)\n",
    "lng_range = (-180, 180)"
   ]
  },
  {
   "cell_type": "markdown",
   "metadata": {},
   "source": [
    "## Generate Cities List"
   ]
  },
  {
   "cell_type": "code",
   "execution_count": 2,
   "metadata": {},
   "outputs": [
    {
     "data": {
      "text/plain": [
       "592"
      ]
     },
     "execution_count": 2,
     "metadata": {},
     "output_type": "execute_result"
    }
   ],
   "source": [
    "# List for holding lat_lngs and cities\n",
    "lat_lngs = []\n",
    "cities = []\n",
    "\n",
    "# Create a set of random lat and lng combinations\n",
    "lats = np.random.uniform(lat_range[0], lat_range[1], size=1500)\n",
    "lngs = np.random.uniform(lng_range[0], lng_range[1], size=1500)\n",
    "lat_lngs = zip(lats, lngs)\n",
    "\n",
    "# Identify nearest city for each lat, lng combination\n",
    "for lat_lng in lat_lngs:\n",
    "    city = citipy.nearest_city(lat_lng[0], lat_lng[1]).city_name\n",
    "    \n",
    "    # If the city is unique, then add it to a our cities list\n",
    "    if city not in cities:\n",
    "        cities.append(city)\n",
    "\n",
    "# Print the city count to confirm sufficient count\n",
    "len(cities)"
   ]
  },
  {
   "cell_type": "markdown",
   "metadata": {},
   "source": [
    "### Perform API Calls\n",
    "* Perform a weather check on each city using a series of successive API calls.\n",
    "* Include a print log of each city as it'sbeing processed (with the city number and city name).\n"
   ]
  },
  {
   "cell_type": "code",
   "execution_count": null,
   "metadata": {
    "scrolled": true
   },
   "outputs": [
    {
     "name": "stdout",
     "output_type": "stream",
     "text": [
      "City: merauke, ID: 2082539\n",
      "City: atuona, ID: 4020109\n",
      "City: provideniya, ID: 4031574\n",
      "City: dikson, ID: 1507390\n",
      "City: bilma, ID: 2446796\n",
      "City: jamestown, ID: 5122534\n",
      "City: kapaa, ID: 5848280\n",
      "City: victoria, ID: 1819729\n",
      "City: raudeberg, ID: 3146487\n",
      "City: tasiilaq, ID: 3424607\n",
      "City: atraulia, ID: 1278189\n",
      "City: leningradskiy, ID: 2123814\n",
      "City: ancud, ID: 3899695\n",
      "City: butaritari, ID: 2110227\n",
      "City: yellowknife, ID: 6185377\n",
      "City: rikitea, ID: 4030556\n",
      "City: san carlos de bariloche, ID: 7647007\n",
      "City: hami, ID: 1529484\n",
      "City: lebu, ID: 3883457\n",
      "City: senanga, ID: 898947\n",
      "City: tuatapere, ID: 2180815\n",
      "City: busselton, ID: 2075265\n",
      "City could not be found, next city...\n",
      "City: mataura, ID: 6201424\n",
      "City: cape town, ID: 3369157\n"
     ]
    }
   ],
   "source": [
    "url = \"http://api.openweathermap.org/data/2.5/weather?\"\n",
    "units = \"imperial\"\n",
    "query_url = f\"{url}appid={weather_api_key}&units={units}&q=\"\n",
    "\n",
    "city_id_list = []\n",
    "city_name_list = []\n",
    "country_list = []\n",
    "lng_list = []\n",
    "lat_list = []\n",
    "temp_list = []\n",
    "humidity_list = []\n",
    "clouds_list = []\n",
    "wind_speed_list = []\n",
    "\n",
    "for city in cities:\n",
    "    \n",
    "    response_json = requests.get(query_url + city).json()\n",
    "     \n",
    "    try:\n",
    "        \n",
    "        city_id = response_json['id']\n",
    "        city_id_list.append(city_id)\n",
    "            \n",
    "        city_name = response_json['name']\n",
    "        city_name_list.append(city_name)\n",
    "        \n",
    "        country_name = response_json['sys']['country']\n",
    "        country_list.append(country_name)\n",
    "\n",
    "        lng = response_json['coord']['lon']\n",
    "        lng_list.append(lng)\n",
    "\n",
    "        lat = response_json['coord']['lat']\n",
    "        lat_list.append(lat)\n",
    "\n",
    "        temp = response_json['main']['temp']\n",
    "        temp_list.append(temp)\n",
    "\n",
    "        humidity = response_json['main']['humidity']\n",
    "        humidity_list.append(humidity)\n",
    "\n",
    "        clouds = response_json['clouds']['all']\n",
    "        clouds_list.append(clouds)\n",
    "\n",
    "        wind_speed = response_json['wind']['speed']\n",
    "        wind_speed_list.append(wind_speed)\n",
    "    \n",
    "        print(f\"City: {city}, ID: {city_id}\")\n",
    "    \n",
    "    except:\n",
    "        \n",
    "        print(\"City could not be found, next city...\")"
   ]
  },
  {
   "cell_type": "markdown",
   "metadata": {},
   "source": [
    "### Convert Raw Data to DataFrame\n",
    "* Export the city data into a .csv.\n",
    "* Display the DataFrame"
   ]
  },
  {
   "cell_type": "code",
   "execution_count": null,
   "metadata": {},
   "outputs": [],
   "source": [
    "cities_df = pd.DataFrame({\"City ID\": city_id_list, \"City\": city_name_list, \"Country\": country_list, \"Lat\": lat_list, \"Lng\": lng_list,\n",
    "                         \"Temperature\": temp_list, \"Humidity\": humidity_list, \"Clouds\": clouds_list,\n",
    "                         \"Wind Speed\": wind_speed_list})\n",
    "cities_df.head()"
   ]
  },
  {
   "cell_type": "code",
   "execution_count": null,
   "metadata": {},
   "outputs": [],
   "source": [
    "cities_df.to_csv(\"output_data/cities.csv\", index=False, header=True)"
   ]
  },
  {
   "cell_type": "code",
   "execution_count": null,
   "metadata": {},
   "outputs": [],
   "source": [
    "#check if there are any cities with >100% humidity\n",
    "test_stats = cities_df[\"Humidity\"].describe(include = \"all\")\n",
    "print(f\"There are no cities that has a humidity level greater than 100%\")\n",
    "test_stats"
   ]
  },
  {
   "cell_type": "markdown",
   "metadata": {},
   "source": [
    "## Plotting the Data\n",
    "* Use proper labeling of the plots using plot titles (including date of analysis) and axes labels.\n",
    "* Save the plotted figures as .pngs."
   ]
  },
  {
   "cell_type": "markdown",
   "metadata": {},
   "source": [
    "## Latitude vs. Temperature Plot"
   ]
  },
  {
   "cell_type": "code",
   "execution_count": null,
   "metadata": {
    "scrolled": false
   },
   "outputs": [],
   "source": [
    "lat_vs_temp = cities_df.plot(kind=\"scatter\", x=\"Lat\", y=\"Temperature\", \n",
    "                                      title=\"Temperature (F) vs. Latitude\")\n",
    "\n",
    "lat_vs_temp.get_figure().savefig(\"output_data/LatVsTemp.png\")"
   ]
  },
  {
   "cell_type": "markdown",
   "metadata": {},
   "source": [
    "## Latitude vs. Humidity Plot"
   ]
  },
  {
   "cell_type": "code",
   "execution_count": null,
   "metadata": {},
   "outputs": [],
   "source": [
    "lat_vs_humidity = cities_df.plot(kind=\"scatter\", x=\"Lat\", y=\"Humidity\", \n",
    "                                      title=\"Humidity vs. Latitude\")\n",
    "\n",
    "lat_vs_humidity.get_figure().savefig(\"output_data/LatVsHumidity.png\")"
   ]
  },
  {
   "cell_type": "markdown",
   "metadata": {},
   "source": [
    "## Latitude vs. Cloudiness Plot"
   ]
  },
  {
   "cell_type": "code",
   "execution_count": null,
   "metadata": {},
   "outputs": [],
   "source": [
    "lat_vs_cloudiness = cities_df.plot(kind=\"scatter\", x=\"Lat\", y=\"Clouds\", \n",
    "                                      title=\"Cloudiness vs. Latitude\")\n",
    "\n",
    "lat_vs_cloudiness.get_figure().savefig(\"output_data/LatVsCLoudiness.png\")"
   ]
  },
  {
   "cell_type": "markdown",
   "metadata": {},
   "source": [
    "## Latitude vs. Wind Speed Plot"
   ]
  },
  {
   "cell_type": "code",
   "execution_count": null,
   "metadata": {},
   "outputs": [],
   "source": [
    "lat_vs_wind_speed = cities_df.plot(kind=\"scatter\", x=\"Lat\", y=\"Wind Speed\", \n",
    "                                      title=\"Wind Speed (mph) vs. Latitude\")\n",
    "\n",
    "lat_vs_wind_speed.get_figure().savefig(\"output_data/LatVsWindSpeed.png\")"
   ]
  },
  {
   "cell_type": "markdown",
   "metadata": {},
   "source": [
    "## Linear Regression"
   ]
  },
  {
   "cell_type": "code",
   "execution_count": null,
   "metadata": {},
   "outputs": [],
   "source": [
    "mask = cities_df['Lat'] > 0\n",
    "northern_hemisphere = cities_df[mask]\n",
    "southern_hemisphere = cities_df[~mask]"
   ]
  },
  {
   "cell_type": "markdown",
   "metadata": {},
   "source": [
    "####  Northern Hemisphere - Max Temp vs. Latitude Linear Regression"
   ]
  },
  {
   "cell_type": "code",
   "execution_count": null,
   "metadata": {},
   "outputs": [],
   "source": [
    "x_values = northern_hemisphere[\"Lat\"]\n",
    "y_values = northern_hemisphere[\"Temperature\"]\n",
    "\n",
    "(slope, intercept, rvalue, pvalue, stderr) = st.linregress(x_values, y_values)\n",
    "regress_values = x_values * slope + intercept\n",
    "line_eq = \"y = \" + str(round(slope,2)) + \"x + \" + str(round(intercept,2))\n",
    "correlation = st.pearsonr(x_values, y_values)\n",
    "\n",
    "plt.scatter(x_values,y_values)\n",
    "plt.title('Temperatures at Latitude Positions (Northern Hemisphere)')\n",
    "plt.plot(x_values,regress_values,\"r-\")\n",
    "plt.annotate(line_eq,(10,20),fontsize=12,color=\"red\")\n",
    "plt.xlabel('Latitude')\n",
    "plt.ylabel('Temperature (F)')\n",
    "plt.ylim(-5, 100)\n",
    "plt.xlim(0, 80)\n",
    "plt.minorticks_on()\n",
    "plt.grid(which='major', linestyle='-')\n",
    "plt.grid(which='minor', linestyle=':')\n",
    "plt.tight_layout()\n",
    "plt.savefig(\"output_data/nh_tempVSlat_regression.png\")\n",
    "plt.show()"
   ]
  },
  {
   "cell_type": "markdown",
   "metadata": {},
   "source": [
    "####  Southern Hemisphere - Max Temp vs. Latitude Linear Regression"
   ]
  },
  {
   "cell_type": "code",
   "execution_count": null,
   "metadata": {},
   "outputs": [],
   "source": [
    "x_values = southern_hemisphere[\"Lat\"]\n",
    "y_values = southern_hemisphere[\"Temperature\"]\n",
    "\n",
    "(slope, intercept, rvalue, pvalue, stderr) = st.linregress(x_values, y_values)\n",
    "regress_values = x_values * slope + intercept\n",
    "line_eq = \"y = \" + str(round(slope,2)) + \"x + \" + str(round(intercept,2))\n",
    "correlation = st.pearsonr(x_values, y_values)\n",
    "\n",
    "plt.scatter(x_values,y_values)\n",
    "plt.title('Temperatures at Latitude Positions (Southern Hemisphere)')\n",
    "plt.plot(x_values,regress_values,\"r-\")\n",
    "plt.annotate(line_eq,(-35,80),fontsize=12,color=\"red\")\n",
    "plt.xlabel('Latitude')\n",
    "plt.ylabel('Temperature (F)')\n",
    "plt.ylim(40, 100)\n",
    "plt.xlim(0, -60)\n",
    "plt.minorticks_on()\n",
    "plt.grid(which='major', linestyle='-')\n",
    "plt.grid(which='minor', linestyle=':')\n",
    "plt.tight_layout()\n",
    "plt.savefig(\"output_data/sh_latVStemp_regression.png\")\n",
    "plt.show()"
   ]
  },
  {
   "cell_type": "markdown",
   "metadata": {},
   "source": [
    "####  Northern Hemisphere - Humidity (%) vs. Latitude Linear Regression"
   ]
  },
  {
   "cell_type": "code",
   "execution_count": null,
   "metadata": {},
   "outputs": [],
   "source": [
    "x_values = northern_hemisphere[\"Lat\"]\n",
    "y_values = northern_hemisphere[\"Humidity\"]\n",
    "\n",
    "(slope, intercept, rvalue, pvalue, stderr) = st.linregress(x_values, y_values)\n",
    "regress_values = x_values * slope + intercept\n",
    "line_eq = \"y = \" + str(round(slope,2)) + \"x + \" + str(round(intercept,2))\n",
    "correlation = st.pearsonr(x_values, y_values)\n",
    "\n",
    "plt.scatter(x_values,y_values)\n",
    "plt.title('Humidity at Latitude Positions (Northern Hemisphere)')\n",
    "plt.plot(x_values,regress_values,\"r-\")\n",
    "plt.annotate(line_eq,(50,20),fontsize=12,color=\"red\")\n",
    "plt.xlabel('Latitude')\n",
    "plt.ylabel('Humidity (%)')\n",
    "plt.ylim(0, 105)\n",
    "plt.xlim(0, 80)\n",
    "plt.minorticks_on()\n",
    "plt.grid(which='major', linestyle='-')\n",
    "plt.grid(which='minor', linestyle=':')\n",
    "plt.tight_layout()\n",
    "plt.savefig(\"output_data/nh_latVShumidity_regression.png\")\n",
    "plt.show()"
   ]
  },
  {
   "cell_type": "markdown",
   "metadata": {},
   "source": [
    "####  Southern Hemisphere - Humidity (%) vs. Latitude Linear Regression"
   ]
  },
  {
   "cell_type": "code",
   "execution_count": null,
   "metadata": {},
   "outputs": [],
   "source": [
    "x_values = southern_hemisphere[\"Lat\"]\n",
    "y_values = southern_hemisphere[\"Humidity\"]\n",
    "\n",
    "(slope, intercept, rvalue, pvalue, stderr) = st.linregress(x_values, y_values)\n",
    "regress_values = x_values * slope + intercept\n",
    "line_eq = \"y = \" + str(round(slope,2)) + \"x + \" + str(round(intercept,2))\n",
    "correlation = st.pearsonr(x_values, y_values)\n",
    "\n",
    "plt.scatter(x_values,y_values)\n",
    "plt.title('Humidity at Latitude Positions (Southern Hemisphere)')\n",
    "plt.plot(x_values,regress_values,\"r-\")\n",
    "plt.annotate(line_eq,(-35,80),fontsize=12,color=\"red\")\n",
    "plt.xlabel('Latitude')\n",
    "plt.ylabel('Humidity (%)')\n",
    "plt.ylim(0, 105)\n",
    "plt.xlim(0, -60)\n",
    "plt.minorticks_on()\n",
    "plt.grid(which='major', linestyle='-')\n",
    "plt.grid(which='minor', linestyle=':')\n",
    "#plt.tight_layout()\n",
    "plt.savefig(\"output_data/sh_latVShumidity_regression.png\")\n",
    "plt.show()"
   ]
  },
  {
   "cell_type": "markdown",
   "metadata": {},
   "source": [
    "####  Northern Hemisphere - Cloudiness (%) vs. Latitude Linear Regression"
   ]
  },
  {
   "cell_type": "code",
   "execution_count": null,
   "metadata": {},
   "outputs": [],
   "source": [
    "x_values = northern_hemisphere[\"Lat\"]\n",
    "y_values = northern_hemisphere[\"Clouds\"]\n",
    "\n",
    "(slope, intercept, rvalue, pvalue, stderr) = st.linregress(x_values, y_values)\n",
    "regress_values = x_values * slope + intercept\n",
    "line_eq = \"y = \" + str(round(slope,2)) + \"x + \" + str(round(intercept,2))\n",
    "correlation = st.pearsonr(x_values, y_values)\n",
    "\n",
    "plt.scatter(x_values,y_values)\n",
    "plt.title('Cloudiness at Latitude Positions (Northern Hemisphere)')\n",
    "plt.plot(x_values,regress_values,\"r-\")\n",
    "plt.annotate(line_eq,(50,20),fontsize=12,color=\"red\")\n",
    "plt.xlabel('Latitude')\n",
    "plt.ylabel('Cloudiness (%)')\n",
    "plt.ylim(-5, 105)\n",
    "plt.xlim(0, 80)\n",
    "plt.minorticks_on()\n",
    "plt.grid(which='major', linestyle='-')\n",
    "plt.grid(which='minor', linestyle=':')\n",
    "plt.tight_layout()\n",
    "plt.savefig(\"output_data/nh_latVSclouds_regression.png\")\n",
    "plt.show()"
   ]
  },
  {
   "cell_type": "markdown",
   "metadata": {},
   "source": [
    "####  Southern Hemisphere - Cloudiness (%) vs. Latitude Linear Regression"
   ]
  },
  {
   "cell_type": "code",
   "execution_count": null,
   "metadata": {},
   "outputs": [],
   "source": [
    "x_values = southern_hemisphere[\"Lat\"]\n",
    "y_values = southern_hemisphere[\"Clouds\"]\n",
    "\n",
    "(slope, intercept, rvalue, pvalue, stderr) = st.linregress(x_values, y_values)\n",
    "regress_values = x_values * slope + intercept\n",
    "line_eq = \"y = \" + str(round(slope,2)) + \"x + \" + str(round(intercept,2))\n",
    "correlation = st.pearsonr(x_values, y_values)\n",
    "\n",
    "plt.scatter(x_values,y_values)\n",
    "plt.title('Cloudiness at Latitude Positions (Southern Hemisphere)')\n",
    "plt.plot(x_values,regress_values,\"r-\")\n",
    "plt.annotate(line_eq,(-30,60),fontsize=12,color=\"red\")\n",
    "plt.xlabel('Latitude')\n",
    "plt.ylabel('Cloudiness (%)')\n",
    "plt.ylim(-5, 105)\n",
    "plt.xlim(0, -60)\n",
    "plt.minorticks_on()\n",
    "plt.grid(which='major', linestyle='-')\n",
    "plt.grid(which='minor', linestyle=':')\n",
    "#plt.tight_layout()\n",
    "plt.savefig(\"output_data/sh_latVSclouds_regression.png\")\n",
    "plt.show()"
   ]
  },
  {
   "cell_type": "markdown",
   "metadata": {},
   "source": [
    "####  Northern Hemisphere - Wind Speed (mph) vs. Latitude Linear Regression"
   ]
  },
  {
   "cell_type": "code",
   "execution_count": null,
   "metadata": {},
   "outputs": [],
   "source": [
    "x_values = northern_hemisphere[\"Lat\"]\n",
    "y_values = northern_hemisphere[\"Wind Speed\"]\n",
    "\n",
    "(slope, intercept, rvalue, pvalue, stderr) = st.linregress(x_values, y_values)\n",
    "regress_values = x_values * slope + intercept\n",
    "line_eq = \"y = \" + str(round(slope,2)) + \"x + \" + str(round(intercept,2))\n",
    "correlation = st.pearsonr(x_values, y_values)\n",
    "\n",
    "plt.scatter(x_values,y_values)\n",
    "plt.title('Wind Speed at Latitude Positions (Northern Hemisphere)')\n",
    "plt.plot(x_values,regress_values,\"r-\")\n",
    "plt.annotate(line_eq,(50,20),fontsize=12,color=\"red\")\n",
    "plt.xlabel('Latitude')\n",
    "plt.ylabel('Wind Speed (mph)')\n",
    "plt.ylim(0, 40)\n",
    "plt.xlim(0, 80)\n",
    "plt.minorticks_on()\n",
    "plt.grid(which='major', linestyle='-')\n",
    "plt.grid(which='minor', linestyle=':')\n",
    "plt.tight_layout()\n",
    "plt.savefig(\"output_data/nh_latVSwind_regression.png\")\n",
    "plt.show()"
   ]
  },
  {
   "cell_type": "markdown",
   "metadata": {},
   "source": [
    "####  Southern Hemisphere - Wind Speed (mph) vs. Latitude Linear Regression"
   ]
  },
  {
   "cell_type": "code",
   "execution_count": null,
   "metadata": {},
   "outputs": [],
   "source": [
    "x_values = southern_hemisphere[\"Lat\"]\n",
    "y_values = southern_hemisphere[\"Wind Speed\"]\n",
    "\n",
    "(slope, intercept, rvalue, pvalue, stderr) = st.linregress(x_values, y_values)\n",
    "regress_values = x_values * slope + intercept\n",
    "line_eq = \"y = \" + str(round(slope,2)) + \"x + \" + str(round(intercept,2))\n",
    "correlation = st.pearsonr(x_values, y_values)\n",
    "\n",
    "plt.scatter(x_values,y_values)\n",
    "plt.title('Wind Speed at Latitude Positions (Southern Hemisphere)')\n",
    "plt.plot(x_values,regress_values,\"r-\")\n",
    "plt.annotate(line_eq,(-30,20),fontsize=12,color=\"red\")\n",
    "plt.xlabel('Latitude')\n",
    "plt.ylabel('Wind Speed (mph)')\n",
    "plt.ylim(0, 35)\n",
    "plt.xlim(0, -60)\n",
    "plt.minorticks_on()\n",
    "plt.grid(which='major', linestyle='-')\n",
    "plt.grid(which='minor', linestyle=':')\n",
    "#plt.tight_layout()\n",
    "plt.savefig(\"output_data/sh_latVSwind_regression.png\")\n",
    "plt.show()"
   ]
  },
  {
   "cell_type": "code",
   "execution_count": null,
   "metadata": {},
   "outputs": [],
   "source": []
  }
 ],
 "metadata": {
  "anaconda-cloud": {},
  "kernel_info": {
   "name": "python3"
  },
  "kernelspec": {
   "display_name": "Python 3",
   "language": "python",
   "name": "python3"
  },
  "language_info": {
   "codemirror_mode": {
    "name": "ipython",
    "version": 3
   },
   "file_extension": ".py",
   "mimetype": "text/x-python",
   "name": "python",
   "nbconvert_exporter": "python",
   "pygments_lexer": "ipython3",
   "version": "3.8.5"
  },
  "latex_envs": {
   "LaTeX_envs_menu_present": true,
   "autoclose": false,
   "autocomplete": true,
   "bibliofile": "biblio.bib",
   "cite_by": "apalike",
   "current_citInitial": 1,
   "eqLabelWithNumbers": true,
   "eqNumInitial": 1,
   "hotkeys": {
    "equation": "Ctrl-E",
    "itemize": "Ctrl-I"
   },
   "labels_anchors": false,
   "latex_user_defs": false,
   "report_style_numbering": false,
   "user_envs_cfg": false
  },
  "nteract": {
   "version": "0.12.3"
  }
 },
 "nbformat": 4,
 "nbformat_minor": 2
}
